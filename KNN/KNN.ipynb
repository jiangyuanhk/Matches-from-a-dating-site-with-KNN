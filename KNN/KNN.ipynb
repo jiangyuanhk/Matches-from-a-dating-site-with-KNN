{
 "cells": [
  {
   "cell_type": "markdown",
   "metadata": {},
   "source": [
    "# KNN: Tell me what you like, and I will tell you what you really want\n",
    "-------------\n"
   ]
  },
  {
   "cell_type": "markdown",
   "metadata": {},
   "source": [
    "My friend **Casandra** came to me who has been using some online dating sites to find different people to go out with. She realized that despite the site's recommendations, she didn't like everyone she was matched with. After some introspection, she realized there were three types of people she went out with:\n",
    "- Guys she didn't like\n",
    "- Guys she liked in small doses\n",
    "- Guys she liked in large doses\n",
    "\n",
    "But she couldn't figure out what made a guy fit into any of these categories. However, she had collected some data which she feels is useful in selecting guys to go out with. \n",
    "In this project, we will help her filter future matches to categorize them."
   ]
  },
  {
   "cell_type": "markdown",
   "metadata": {},
   "source": [
    "## Inports\n",
    "Here, we import all the neccessary libraries and modules needed for this project"
   ]
  },
  {
   "cell_type": "code",
   "execution_count": 43,
   "metadata": {
    "collapsed": true
   },
   "outputs": [],
   "source": [
    "from IPython.display import display\n",
    "from numpy import *\n",
    "import operator\n",
    "import sys\n",
    "from collections import namedtuple\n",
    "import matplotlib\n",
    "import matplotlib.pyplot as plt\n",
    "import numpy as np\n",
    "import pandas as pd\n",
    "import seaborn as sns"
   ]
  },
  {
   "cell_type": "markdown",
   "metadata": {},
   "source": [
    "## Datasets\n",
    "The data collected by the lady is in a text file called datingTestSet.txt. It has 1,000 entries. A new sample is on each line, and its made up of the following features:\n",
    "\n",
    "- Number of frequent flyer miles earned per year\n",
    "- Percentage of time spent playing video games\n",
    "- Liters of ice cream consumed per week"
   ]
  },
  {
   "cell_type": "markdown",
   "metadata": {},
   "source": [
    "## Preparing the data\n",
    "Before we can use this data in our KNN classifier, we need to change it to the format that our classifier accepts.\n",
    "#### Matrix of training examples and vector of class labels\n",
    "We will write a function which takes a filename string and outputs two things: a matrix of training examples and a vector of class labels.\n",
    "\n",
    "We open the file, get its content column and row size,create zeros array with this size(column,row) as dimension then we loop through the file and extract the first 3 column for each row and assign it to the zeros array then we take the last column of each row and store in the vector list which serve as label"
   ]
  },
  {
   "cell_type": "code",
   "execution_count": 2,
   "metadata": {
    "collapsed": true
   },
   "outputs": [],
   "source": [
    "def file2matrix(filename):\n",
    "    ''''\n",
    "    @param filename[string] this is a file name from which the dataset will be extracted\n",
    "    @return (matrix, list)\n",
    "        - the matrix is the dataset \n",
    "        - the list is a vetor list containing the labels\n",
    "    ------------------------------------\n",
    "    @hint:\n",
    "        - In python 3.*, raw_input() has been replaced with input()\n",
    "        - It is preferable to use 'with' when opening a file,since it automatically close the file when it ends.\n",
    "        Also if the file fails to open, it won't execute the codes in its loop.\n",
    "    '''\n",
    "\n",
    "    with open(filename) as fr:\n",
    "        lines = fr.readlines()\n",
    "\n",
    "        numberOfLines_row = len(lines)                      # Get the column size of the dataset\n",
    "        column_size = len(lines[0].split('\\t')) - 1         # Get the dataset first line,then split it to determine the row size of the dataset(we minus 1 to exlude the lable)\n",
    "\n",
    "        returnMat = zeros((numberOfLines_row,column_size))  # using the numpy zeros((row,column)) to create an array with rows and columns initialized with 0s \n",
    "        classLabelVector = []                               # vector list for the labels\n",
    "\n",
    "    with open(filename) as fr:\n",
    "        index = 0\n",
    "        for line in fr.readlines():\n",
    "            line = line.strip()                             #strip each row of data\n",
    "            listFromLine = line.split('\\t')                 #return a list of each column data seperated by a comma split using tab.\n",
    "            #return[index,:] gets all the index row of the array and feel each column of this row with values from listFromLine[0:3]\n",
    "            returnMat[index,:] = listFromLine[0:3]\n",
    "            # here we get the last value in the list, which is a string representing the label\n",
    "            # '-1' here means we start counting anticlock wise.that is the last value in the list.\n",
    "            classLabelVector.append(listFromLine[-1])  \n",
    "            index +=1\n",
    "    data = namedtuple('data',['groupMat','labelVec'])\n",
    "    return data(returnMat,classLabelVector)"
   ]
  },
  {
   "cell_type": "code",
   "execution_count": 3,
   "metadata": {
    "scrolled": true
   },
   "outputs": [
    {
     "name": "stdout",
     "output_type": "stream",
     "text": [
      "dating data matrix \n",
      "\n",
      "[[  4.09200000e+04   8.32697600e+00   9.53952000e-01]\n",
      " [  1.44880000e+04   7.15346900e+00   1.67390400e+00]\n",
      " [  2.60520000e+04   1.44187100e+00   8.05124000e-01]\n",
      " ..., \n",
      " [  2.65750000e+04   1.06501020e+01   8.66627000e-01]\n",
      " [  4.81110000e+04   9.13452800e+00   7.28045000e-01]\n",
      " [  4.37570000e+04   7.88260100e+00   1.33244600e+00]]\n",
      "\n",
      " dating labels \n",
      "\n",
      "['largeDoses', 'smallDoses', 'didntLike', 'didntLike', 'didntLike', 'didntLike', 'largeDoses', 'largeDoses', 'didntLike', 'largeDoses', 'didntLike', 'didntLike', 'smallDoses', 'didntLike', 'didntLike', 'didntLike', 'didntLike', 'didntLike', 'smallDoses', 'largeDoses', 'smallDoses', 'didntLike', 'smallDoses', 'largeDoses', 'smallDoses', 'largeDoses', 'smallDoses', 'largeDoses', 'smallDoses', 'didntLike', 'largeDoses', 'didntLike', 'largeDoses', 'didntLike', 'smallDoses', 'didntLike', 'didntLike', 'smallDoses', 'largeDoses', 'largeDoses', 'didntLike', 'smallDoses', 'largeDoses', 'largeDoses', 'largeDoses', 'didntLike', 'didntLike', 'didntLike', 'didntLike', 'smallDoses']\n"
     ]
    }
   ],
   "source": [
    "# Load the dataset into a list of matrix and labels.\n",
    "datingDataMat,datingLabels = file2matrix('data/datingTestSet.txt')\n",
    "print('dating data matrix \\n')\n",
    "print(datingDataMat)\n",
    "print('\\n dating labels \\n')\n",
    "print(datingLabels[:50]) # print the first 50"
   ]
  },
  {
   "cell_type": "code",
   "execution_count": 4,
   "metadata": {},
   "outputs": [
    {
     "data": {
      "text/plain": [
       "array([[  4.09200000e+04,   8.32697600e+00,   9.53952000e-01],\n",
       "       [  1.44880000e+04,   7.15346900e+00,   1.67390400e+00],\n",
       "       [  2.60520000e+04,   1.44187100e+00,   8.05124000e-01],\n",
       "       ..., \n",
       "       [  2.65750000e+04,   1.06501020e+01,   8.66627000e-01],\n",
       "       [  4.81110000e+04,   9.13452800e+00,   7.28045000e-01],\n",
       "       [  4.37570000e+04,   7.88260100e+00,   1.33244600e+00]])"
      ]
     },
     "execution_count": 4,
     "metadata": {},
     "output_type": "execute_result"
    }
   ],
   "source": [
    "datingDataMat"
   ]
  },
  {
   "cell_type": "markdown",
   "metadata": {},
   "source": [
    "## Analysing the data\n",
    "With the help of a scatter plot, we will analyse the data"
   ]
  },
  {
   "cell_type": "code",
   "execution_count": 8,
   "metadata": {},
   "outputs": [
    {
     "data": {
      "image/png": "[encoded data removed]",
      "text/plain": [
       "<matplotlib.figure.Figure at 0x7fd5fb476e80>"
      ]
     },
     "metadata": {},
     "output_type": "display_data"
    }
   ],
   "source": [
    "def plot_scatter(x_data, y_data,data_label, x_label, y_label, title):\n",
    "    fig = plt.figure()\n",
    "    ax = fig.add_subplot(111)\n",
    "    data_label = labels_to_numbers(data_label)\n",
    "    ax.scatter(datingDataMat[:,1], datingDataMat[:,2], 15.0*array(data_label), 15.0*array(data_label))\n",
    "    plt.title(title)\n",
    "    plt.xlabel(x_label)\n",
    "    plt.ylabel(y_label)\n",
    "    plt.show()\n",
    "    \n",
    "title   = 'Dating data with markers changed by class label'\n",
    "x_label = 'Number of frequent flyer miles earned per year'\n",
    "y_label = 'Percentage of time spent playing video games'\n",
    "x_data = datingDataMat[:,1]\n",
    "y_data = datingDataMat[:,2]\n",
    "plot_scatter(x_data, y_data,datingLabels, x_label, y_label, title)"
   ]
  },
  {
   "cell_type": "markdown",
   "metadata": {},
   "source": [
    "The figure above shows dating data with markers changed by class label. It’s easier to identify the\n",
    "different classes, but it’s difficult to draw conclusions from looking at this data."
   ]
  },
  {
   "cell_type": "code",
   "execution_count": 18,
   "metadata": {
    "collapsed": true
   },
   "outputs": [],
   "source": [
    "def labels_to_numbers(datingLabels):\n",
    "    '''\n",
    "    @param datingLabels[list]   this list contain vector labels of the dataset in string (eg ['a','b','c','b','a','e','c']\n",
    "    @return (list)              this list will content vector labels expressed in integers (eg [1,2,3,2]\n",
    "    ------------------------------------\n",
    "    @hint:\n",
    "        - we first create a dict, which holds each string and its \n",
    "        frequency(ie unique strings and the number of appearance.(eg {'largeDoses:98,didntLike:33,smallDoses:26})\n",
    "        - then we use the keys of this dict created above to form another dict which contain\n",
    "        the string as key, and a unique numeric lable as value(eg {'largeDoses:1,didntLike:2,smallDoses:3}). This unique \n",
    "        numeric label will be used to identify each string.\n",
    "        - we now replace the datingLabels string labels with the numeric lables(eg [1,3,2,1,2,2,3...] \n",
    "        which can now be used in array multiplication \n",
    "    '''\n",
    "    keeps = {}\n",
    "    labelNum = {}\n",
    "    count = 1\n",
    "    for lable in datingLabels:\n",
    "        keeps[lable] = keeps.get(lable,0)+1\n",
    "    for keep in keeps.keys():\n",
    "        labelNum[keep] = count\n",
    "        count += 1\n",
    "    for i in range(len(datingLabels)):\n",
    "        datingLabels[i] = labelNum[datingLabels[i]]\n",
    "\n",
    "    return datingLabels"
   ]
  },
  {
   "cell_type": "markdown",
   "metadata": {},
   "source": [
    "## normalizing numeric values\n",
    "When dealing with values that lie in different ranges, it's common to normalize them. Normalisation means expressing a large range of values to a smaller range( in this case from 0-1) so the formular for that is:\n",
    ">newValue = (oldValue - min)/(max - min)\n",
    "\n",
    "- For minVals and maxVals, get the min and max value from the columns array,and not the rows, that is why we used '(0)'. this return a list with result from each column\n",
    "- From calculation, minVals and ranges are of dimension 1x3, but the dataSet is of dimension 100x3 in this case, we can't peform multiplication or division with such dimension differences, so we use title(from numpy) to form an array of specified dimension. eg. tile(minVals, (m,1)) where minVals = [a,b,c] and m = rows, 1 = column if m = 3, the result becomes \n",
    "                       [[a,b,c],\n",
    "                        [a,b,c],\n",
    "                        [a,b,c]]\n",
    "NB// it duplicate the rows by 3 and the column by 1."
   ]
  },
  {
   "cell_type": "code",
   "execution_count": 19,
   "metadata": {
    "collapsed": true
   },
   "outputs": [],
   "source": [
    "def autoNorm(dataSet):\n",
    "    '''\n",
    "    @param dataSet[numpy array]    contain range of values \n",
    "    @return\n",
    "        - normDataSet[numpy array] normalise version of the dataSet, that is having range of values between 0-1\n",
    "        - ranges[numpy array]      contain values from substracting the max value and min values of each column in the dataSet\n",
    "        - minVals[numpy array]     contain values from calculating the min values of each column in the dataSet.\n",
    "\n",
    "    '''\n",
    "\n",
    "    minVals = dataSet.min(0)\n",
    "    maxVals = dataSet.max(0)\n",
    "    ranges  = maxVals - minVals\n",
    "    normDataSet = zeros(shape(dataSet))     #shape() return the dimension of the array, and zeros() uses it to write an array with the same dimension fills with zeros.Its same as dataSet.shape\n",
    "    m = dataSet.shape[0]                    #get the row dimension of the array.\n",
    "    normDataSet = dataSet - tile(minVals, (m,1)) #form an array with 'minVals' and dimension (m,1) then subtract from dataset.[oldValue - min]\n",
    "    normDataSet = normDataSet/tile(ranges, (m,1)) # (oldValue - min)/(max - min)\n",
    "    norm = namedtuple('data',['normMat','ranges','minVals'])\n",
    "    # We need the ranges and minimum values to normalize the test data\n",
    "    return norm(normDataSet, ranges, minVals)"
   ]
  },
  {
   "cell_type": "code",
   "execution_count": 20,
   "metadata": {
    "collapsed": true
   },
   "outputs": [],
   "source": [
    "normMat, ranges, minVals = autoNorm(datingDataMat)"
   ]
  },
  {
   "cell_type": "code",
   "execution_count": 21,
   "metadata": {},
   "outputs": [
    {
     "data": {
      "text/plain": [
       "array([[ 0.44832535,  0.39805139,  0.56233353],\n",
       "       [ 0.15873259,  0.34195467,  0.98724416],\n",
       "       [ 0.28542943,  0.06892523,  0.47449629],\n",
       "       ..., \n",
       "       [ 0.29115949,  0.50910294,  0.51079493],\n",
       "       [ 0.52711097,  0.43665451,  0.4290048 ],\n",
       "       [ 0.47940793,  0.3768091 ,  0.78571804]])"
      ]
     },
     "execution_count": 21,
     "metadata": {},
     "output_type": "execute_result"
    }
   ],
   "source": [
    "normMat"
   ]
  },
  {
   "cell_type": "code",
   "execution_count": 22,
   "metadata": {},
   "outputs": [
    {
     "data": {
      "text/plain": [
       "array([  9.12730000e+04,   2.09193490e+01,   1.69436100e+00])"
      ]
     },
     "execution_count": 22,
     "metadata": {},
     "output_type": "execute_result"
    }
   ],
   "source": [
    "ranges"
   ]
  },
  {
   "cell_type": "code",
   "execution_count": 23,
   "metadata": {},
   "outputs": [
    {
     "data": {
      "text/plain": [
       "array([ 0.      ,  0.      ,  0.001156])"
      ]
     },
     "execution_count": 23,
     "metadata": {},
     "output_type": "execute_result"
    }
   ],
   "source": [
    "minVals"
   ]
  },
  {
   "cell_type": "markdown",
   "metadata": {},
   "source": [
    "## Analyse normalized data \n",
    "To see what makes Casandra likes someone in large dose, small does and not at all, I will plot each data group.\n",
    "\n",
    "**NB:**\n",
    "- 0 = Number of frequent flyer miles earned per year\n",
    "- 1 = Percentage of time spent playing video games\n",
    "- 2 = Liters of ice cream consumed per week\n",
    "\n",
    "\n"
   ]
  },
  {
   "cell_type": "code",
   "execution_count": 106,
   "metadata": {},
   "outputs": [
    {
     "name": "stdout",
     "output_type": "stream",
     "text": [
      "like in large dose\n"
     ]
    },
    {
     "data": {
      "text/html": [
       "<div>\n",
       "<style scoped>\n",
       "    .dataframe tbody tr th:only-of-type {\n",
       "        vertical-align: middle;\n",
       "    }\n",
       "\n",
       "    .dataframe tbody tr th {\n",
       "        vertical-align: top;\n",
       "    }\n",
       "\n",
       "    .dataframe thead th {\n",
       "        text-align: right;\n",
       "    }\n",
       "</style>\n",
       "<table border=\"1\" class=\"dataframe\">\n",
       "  <thead>\n",
       "    <tr style=\"text-align: right;\">\n",
       "      <th></th>\n",
       "      <th>0</th>\n",
       "      <th>1</th>\n",
       "      <th>2</th>\n",
       "    </tr>\n",
       "  </thead>\n",
       "  <tbody>\n",
       "    <tr>\n",
       "      <th>1</th>\n",
       "      <td>0.448325</td>\n",
       "      <td>0.398051</td>\n",
       "      <td>0.562334</td>\n",
       "    </tr>\n",
       "    <tr>\n",
       "      <th>1</th>\n",
       "      <td>0.393851</td>\n",
       "      <td>0.326530</td>\n",
       "      <td>0.715335</td>\n",
       "    </tr>\n",
       "    <tr>\n",
       "      <th>1</th>\n",
       "      <td>0.467455</td>\n",
       "      <td>0.634645</td>\n",
       "      <td>0.320312</td>\n",
       "    </tr>\n",
       "    <tr>\n",
       "      <th>1</th>\n",
       "      <td>0.388757</td>\n",
       "      <td>0.586690</td>\n",
       "      <td>0.889360</td>\n",
       "    </tr>\n",
       "    <tr>\n",
       "      <th>1</th>\n",
       "      <td>0.312119</td>\n",
       "      <td>0.503293</td>\n",
       "      <td>0.769428</td>\n",
       "    </tr>\n",
       "  </tbody>\n",
       "</table>\n",
       "</div>"
      ],
      "text/plain": [
       "          0         1         2\n",
       "1  0.448325  0.398051  0.562334\n",
       "1  0.393851  0.326530  0.715335\n",
       "1  0.467455  0.634645  0.320312\n",
       "1  0.388757  0.586690  0.889360\n",
       "1  0.312119  0.503293  0.769428"
      ]
     },
     "metadata": {},
     "output_type": "display_data"
    },
    {
     "name": "stdout",
     "output_type": "stream",
     "text": [
      "like in small dose\n"
     ]
    },
    {
     "data": {
      "text/html": [
       "<div>\n",
       "<style scoped>\n",
       "    .dataframe tbody tr th:only-of-type {\n",
       "        vertical-align: middle;\n",
       "    }\n",
       "\n",
       "    .dataframe tbody tr th {\n",
       "        vertical-align: top;\n",
       "    }\n",
       "\n",
       "    .dataframe thead th {\n",
       "        text-align: right;\n",
       "    }\n",
       "</style>\n",
       "<table border=\"1\" class=\"dataframe\">\n",
       "  <thead>\n",
       "    <tr style=\"text-align: right;\">\n",
       "      <th></th>\n",
       "      <th>0</th>\n",
       "      <th>1</th>\n",
       "      <th>2</th>\n",
       "    </tr>\n",
       "  </thead>\n",
       "  <tbody>\n",
       "    <tr>\n",
       "      <th>2</th>\n",
       "      <td>0.158733</td>\n",
       "      <td>0.341955</td>\n",
       "      <td>0.987244</td>\n",
       "    </tr>\n",
       "    <tr>\n",
       "      <th>2</th>\n",
       "      <td>0.061015</td>\n",
       "      <td>0.233059</td>\n",
       "      <td>0.429367</td>\n",
       "    </tr>\n",
       "    <tr>\n",
       "      <th>2</th>\n",
       "      <td>0.171672</td>\n",
       "      <td>0.000000</td>\n",
       "      <td>0.737168</td>\n",
       "    </tr>\n",
       "    <tr>\n",
       "      <th>2</th>\n",
       "      <td>0.071072</td>\n",
       "      <td>0.169234</td>\n",
       "      <td>0.484741</td>\n",
       "    </tr>\n",
       "    <tr>\n",
       "      <th>2</th>\n",
       "      <td>0.247828</td>\n",
       "      <td>0.253252</td>\n",
       "      <td>0.376041</td>\n",
       "    </tr>\n",
       "  </tbody>\n",
       "</table>\n",
       "</div>"
      ],
      "text/plain": [
       "          0         1         2\n",
       "2  0.158733  0.341955  0.987244\n",
       "2  0.061015  0.233059  0.429367\n",
       "2  0.171672  0.000000  0.737168\n",
       "2  0.071072  0.169234  0.484741\n",
       "2  0.247828  0.253252  0.376041"
      ]
     },
     "metadata": {},
     "output_type": "display_data"
    },
    {
     "name": "stdout",
     "output_type": "stream",
     "text": [
      "didnt like\n"
     ]
    },
    {
     "data": {
      "text/html": [
       "<div>\n",
       "<style scoped>\n",
       "    .dataframe tbody tr th:only-of-type {\n",
       "        vertical-align: middle;\n",
       "    }\n",
       "\n",
       "    .dataframe tbody tr th {\n",
       "        vertical-align: top;\n",
       "    }\n",
       "\n",
       "    .dataframe thead th {\n",
       "        text-align: right;\n",
       "    }\n",
       "</style>\n",
       "<table border=\"1\" class=\"dataframe\">\n",
       "  <thead>\n",
       "    <tr style=\"text-align: right;\">\n",
       "      <th></th>\n",
       "      <th>0</th>\n",
       "      <th>1</th>\n",
       "      <th>2</th>\n",
       "    </tr>\n",
       "  </thead>\n",
       "  <tbody>\n",
       "    <tr>\n",
       "      <th>3</th>\n",
       "      <td>0.285429</td>\n",
       "      <td>0.068925</td>\n",
       "      <td>0.474496</td>\n",
       "    </tr>\n",
       "    <tr>\n",
       "      <th>3</th>\n",
       "      <td>0.823201</td>\n",
       "      <td>0.628480</td>\n",
       "      <td>0.252489</td>\n",
       "    </tr>\n",
       "    <tr>\n",
       "      <th>3</th>\n",
       "      <td>0.420102</td>\n",
       "      <td>0.079820</td>\n",
       "      <td>0.078578</td>\n",
       "    </tr>\n",
       "    <tr>\n",
       "      <th>3</th>\n",
       "      <td>0.799722</td>\n",
       "      <td>0.484802</td>\n",
       "      <td>0.608961</td>\n",
       "    </tr>\n",
       "    <tr>\n",
       "      <th>3</th>\n",
       "      <td>0.739507</td>\n",
       "      <td>0.412612</td>\n",
       "      <td>0.441536</td>\n",
       "    </tr>\n",
       "  </tbody>\n",
       "</table>\n",
       "</div>"
      ],
      "text/plain": [
       "          0         1         2\n",
       "3  0.285429  0.068925  0.474496\n",
       "3  0.823201  0.628480  0.252489\n",
       "3  0.420102  0.079820  0.078578\n",
       "3  0.799722  0.484802  0.608961\n",
       "3  0.739507  0.412612  0.441536"
      ]
     },
     "metadata": {},
     "output_type": "display_data"
    }
   ],
   "source": [
    "# Group the dataset into 'large dose', 'small dose' and 'didnt like'\n",
    "date = pd.DataFrame(normMat)\n",
    "ind = {i:j for i,j in enumerate(datingLabels)}\n",
    "date.rename(index=ind, inplace=True)\n",
    "largeDoses = date.loc[1]\n",
    "smallDoses = date.loc[2]\n",
    "didntLike  = date.loc[3]\n",
    "print('like in large dose')\n",
    "display(largeDoses.head())\n",
    "print('like in small dose')\n",
    "display(smallDoses.head())\n",
    "print('didnt like')\n",
    "display(didntLike.head())"
   ]
  },
  {
   "cell_type": "code",
   "execution_count": 113,
   "metadata": {},
   "outputs": [
    {
     "name": "stderr",
     "output_type": "stream",
     "text": [
      "/home/tony/anaconda3/lib/python3.6/site-packages/ipykernel_launcher.py:3: SettingWithCopyWarning: \n",
      "A value is trying to be set on a copy of a slice from a DataFrame.\n",
      "Try using .loc[row_indexer,col_indexer] = value instead\n",
      "\n",
      "See the caveats in the documentation: http://pandas.pydata.org/pandas-docs/stable/indexing.html#indexing-view-versus-copy\n",
      "  This is separate from the ipykernel package so we can avoid doing imports until\n"
     ]
    },
    {
     "data": {
      "image/png": "[encoded data removed]",
      "text/plain": [
       "<matplotlib.figure.Figure at 0x7fd5e497d898>"
      ]
     },
     "metadata": {},
     "output_type": "display_data"
    }
   ],
   "source": [
    "# plot the first 20 rows of dataset in the group 'like in large dose'\n",
    "gg = largeDoses[:20]\n",
    "gg['a'] = ['.' for i in range(20)]\n",
    "ax = gg.plot(x='a', y=2, kind=\"bar\", color=\"C1\")\n",
    "gg.plot(x='a', y=1, kind=\"bar\", ax=ax, color=\"C2\")\n",
    "gg.plot(x='a', y=0, kind=\"bar\", ax=ax, color=\"C3\")\n",
    "plt.title(\"Like in Large Dose\")\n",
    "plt.show()"
   ]
  },
  {
   "cell_type": "code",
   "execution_count": 112,
   "metadata": {},
   "outputs": [
    {
     "name": "stderr",
     "output_type": "stream",
     "text": [
      "/home/tony/anaconda3/lib/python3.6/site-packages/ipykernel_launcher.py:3: SettingWithCopyWarning: \n",
      "A value is trying to be set on a copy of a slice from a DataFrame.\n",
      "Try using .loc[row_indexer,col_indexer] = value instead\n",
      "\n",
      "See the caveats in the documentation: http://pandas.pydata.org/pandas-docs/stable/indexing.html#indexing-view-versus-copy\n",
      "  This is separate from the ipykernel package so we can avoid doing imports until\n"
     ]
    },
    {
     "data": {
      "image/png": "[encoded data removed]",
      "text/plain": [
       "<matplotlib.figure.Figure at 0x7fd5fb476128>"
      ]
     },
     "metadata": {},
     "output_type": "display_data"
    }
   ],
   "source": [
    "# plot the first 20 rows of dataset in the group 'like in small dose'\n",
    "ss = smallDoses[:20]\n",
    "ss['a'] = ['.' for i in range(20)]\n",
    "ax = ss.plot(x='a', y=2, kind=\"bar\", color=\"C1\")\n",
    "ss.plot(x='a', y=1, kind=\"bar\", ax=ax, color=\"C2\")\n",
    "ss.plot(x='a', y=0, kind=\"bar\", ax=ax, color=\"C3\")\n",
    "plt.title('Like in Small Dose')\n",
    "plt.show()"
   ]
  },
  {
   "cell_type": "code",
   "execution_count": 114,
   "metadata": {},
   "outputs": [
    {
     "name": "stderr",
     "output_type": "stream",
     "text": [
      "/home/tony/anaconda3/lib/python3.6/site-packages/ipykernel_launcher.py:3: SettingWithCopyWarning: \n",
      "A value is trying to be set on a copy of a slice from a DataFrame.\n",
      "Try using .loc[row_indexer,col_indexer] = value instead\n",
      "\n",
      "See the caveats in the documentation: http://pandas.pydata.org/pandas-docs/stable/indexing.html#indexing-view-versus-copy\n",
      "  This is separate from the ipykernel package so we can avoid doing imports until\n"
     ]
    },
    {
     "data": {
      "image/png": "[encoded data removed]",
      "text/plain": [
       "<matplotlib.figure.Figure at 0x7fd5e3ad04a8>"
      ]
     },
     "metadata": {},
     "output_type": "display_data"
    }
   ],
   "source": [
    "# plot the first 20 rows of dataset in the group 'didnt like'\n",
    "dd = didntLike[:20]\n",
    "dd['a'] = ['.' for i in range(20)]\n",
    "ax = dd.plot(x='a', y=2, kind=\"bar\", color=\"C1\")\n",
    "dd.plot(x='a', y=1, kind=\"bar\", ax=ax, color=\"C2\")\n",
    "dd.plot(x='a', y=0, kind=\"bar\", ax=ax, color=\"C3\")\n",
    "plt.title(\"Didnt Like\")\n",
    "plt.show()"
   ]
  },
  {
   "cell_type": "markdown",
   "metadata": {},
   "source": [
    "## Building the Classifier(KNN)\n",
    "The function KNN takes four inputs: the input vector to classify called **inX**, our full matrix of training examples called dataSet, a vector of labels called labels, and, finally, **k**, the number of nearest neighbors to use in the voting. The labels vector should have as many elements in it as there are rows in the dataSet matrix. You calculate the distances B using the Euclidian distance where the distance between two vectors, **xA** and **xB**, with two elements, is given by:\n",
    "![title](images/euclidianDist.png)"
   ]
  },
  {
   "cell_type": "code",
   "execution_count": 36,
   "metadata": {
    "collapsed": true
   },
   "outputs": [],
   "source": [
    "def KNN(inX, dataset, label, k):\n",
    "    '''\n",
    "    Experimenting by varying the parameters, we found out that \n",
    "    -K:\n",
    "      This value gives a minimun error number of 10 when it is at 3.\n",
    "      increasing or reducing this value will increase the error number.\n",
    "    ----------------------------------------\n",
    "    @param inX      [list]          the input vector to classify\n",
    "    @param dataset  [numpy array]   our training dataset\n",
    "    @param labels   [list]          vector of labels\n",
    "    @param k        [int]           The number of nearest neighbor used in the voting\n",
    "    '''\n",
    "\n",
    "    dataSetSize = dataset.shape[0]                             #get the size of the array, 0 for row and 1 for column size.(Its Numpy)\n",
    "    #np.tile(inX,(dataSetSize,1) will create an array with value from inX,\n",
    "    #and dimention of (dataSetSize,1)->[row,column]\n",
    "    #so that this array can be subtracted from another array (dataset)\n",
    "    diffMat = tile(inX, (dataSetSize,1)) - dataset             #array subtraction \n",
    "    sqDiffMat = diffMat**2                                     #array square \t(we could use math.pow(diffMat,2))\n",
    "    sqDistances = sqDiffMat.sum(axis = 1)                      #sum the array values column by column (axis = 1), result will be a list.\n",
    "    distance = sqDistances**0.5                                #sqrt each distances in the list\t\t(we could use math.sqrt(sqDistances))\n",
    "    #-------------------------------------------------------------------------------------------------\n",
    "    sortedDistIndicies = distance.argsort()                    #sort from least to greatest(by default), and return the index position of the respective ordering values(thats how argsort works).\n",
    "    classCount = {}\n",
    "    for i in range(k):                                         #select k-value, for each index,get the corresponding lable value.\n",
    "        voteIlabel = label[sortedDistIndicies[i]]   \n",
    "        #'.get(a,b)' gets the value of 'a' if it exists,if not, it return 'b',\n",
    "        #now we add one to each value obtain,so if an index already exist,\n",
    "        #it will return the index current value, and add the one.\n",
    "        classCount[voteIlabel] = classCount.get(voteIlabel,0) + 1 \n",
    "    #this convert the dictionary into list of tuple,eg ('B':1,'A',2) to [('A',2),('B',1)], and sorts it\n",
    "    \"\"\"take the classCount\n",
    "        dictionary and decompose it into a list of tuples and then sort the tuples by the second\n",
    "        item in the tuple using the itemgetter method from the operator module imported\n",
    "        in the second line of the program. This sort is done in reverse so you have largest to\n",
    "        smallest\"\"\"\n",
    "    sortedClassCount = sorted(classCount.items(),key = operator.itemgetter(1), reverse = True)\n",
    "    return sortedClassCount[0][0] #return the first highest value in the first turple list."
   ]
  },
  {
   "cell_type": "markdown",
   "metadata": {},
   "source": [
    "## Training and Testing the classifier\n",
    "\n",
    "Now that I have the data in a format we can use, I am ready to test our classifier before I give it to my friend to use.\n",
    "\n",
    "To evaluate the KNN algorithm's accuracy on my data, I will take some portion, say 90%, to train the classifier. Then I will take the remaining 10% to test the classifier and see how accurate it is.\n",
    "\n",
    "One can measure the performance of a classifier with the error rate. In classification, the error rate is the number of misclassified pieces of data divided by the total number of data points tested. An error rate of 0 means we have a perfect classifier, and an error rate of 1.0 means the classifier is always wrong. In this project, I will measure the error rate with a counter that's incremented every time a piece of data is misclassified. The total number of errors divided by the total number of data points tested will give me the error rate.\n",
    "\n",
    "- We use file2matrix() to extract the labels and dataSet from a file\n",
    "- We use autoNorm() to normalise the dataset\n",
    "- we create 50 testing points from 1000 points.\n",
    "\n",
    "**NB//** *hoRatio determine how many data will be used for training, (hoRatiox1000). so by varying this \n",
    "value, i realised the minimun error rate is reached when hoRatio = 0.05. ie by using 5% of the dataset \n",
    "for training. As i increase/decrease beyong this hoRatio, error rate increases*"
   ]
  },
  {
   "cell_type": "code",
   "execution_count": 40,
   "metadata": {
    "collapsed": true
   },
   "outputs": [],
   "source": [
    "def datingClassTest():\n",
    "    '''\n",
    "    Here we test our classifier on a dating site.\n",
    "    ----------------------\n",
    "    '''\n",
    "    hoRatio = 0.05\n",
    "    data = file2matrix('data/datingTestSet.txt') \n",
    "    norm = autoNorm(data.groupMat)\n",
    "    m = norm.normMat.shape[0]            # get the number of rows in the array [1000]\n",
    "    numTestVecs = int(m*hoRatio)         # multiply by a ratio to get the testing number set int(0.05*1000) = 50\n",
    "    errorCount = 0.0                     # this will be incremented base on bad predictions.\n",
    "    for i in range(numTestVecs):         # loop through the testing set number\n",
    "        classifierResult = KNN(norm.normMat[i,:], norm.normMat[numTestVecs:m,:], data.labelVec[numTestVecs:m],3)\n",
    "        print (\"the classifier came back with: %s, the real answer is: %s\" % (classifierResult, data.labelVec[i]))\n",
    "        if (classifierResult != data.labelVec[i]): errorCount += 1.0\n",
    "    print (\"the total error rate is: %f\" % (errorCount/float(numTestVecs)))"
   ]
  },
  {
   "cell_type": "code",
   "execution_count": 41,
   "metadata": {
    "scrolled": true
   },
   "outputs": [
    {
     "name": "stdout",
     "output_type": "stream",
     "text": [
      "the classifier came back with: largeDoses, the real answer is: largeDoses\n",
      "the classifier came back with: smallDoses, the real answer is: smallDoses\n",
      "the classifier came back with: didntLike, the real answer is: didntLike\n",
      "the classifier came back with: didntLike, the real answer is: didntLike\n",
      "the classifier came back with: didntLike, the real answer is: didntLike\n",
      "the classifier came back with: didntLike, the real answer is: didntLike\n",
      "the classifier came back with: largeDoses, the real answer is: largeDoses\n",
      "the classifier came back with: largeDoses, the real answer is: largeDoses\n",
      "the classifier came back with: didntLike, the real answer is: didntLike\n",
      "the classifier came back with: largeDoses, the real answer is: largeDoses\n",
      "the classifier came back with: didntLike, the real answer is: didntLike\n",
      "the classifier came back with: didntLike, the real answer is: didntLike\n",
      "the classifier came back with: smallDoses, the real answer is: smallDoses\n",
      "the classifier came back with: didntLike, the real answer is: didntLike\n",
      "the classifier came back with: didntLike, the real answer is: didntLike\n",
      "the classifier came back with: didntLike, the real answer is: didntLike\n",
      "the classifier came back with: didntLike, the real answer is: didntLike\n",
      "the classifier came back with: didntLike, the real answer is: didntLike\n",
      "the classifier came back with: smallDoses, the real answer is: smallDoses\n",
      "the classifier came back with: largeDoses, the real answer is: largeDoses\n",
      "the classifier came back with: smallDoses, the real answer is: smallDoses\n",
      "the classifier came back with: didntLike, the real answer is: didntLike\n",
      "the classifier came back with: largeDoses, the real answer is: smallDoses\n",
      "the classifier came back with: largeDoses, the real answer is: largeDoses\n",
      "the classifier came back with: smallDoses, the real answer is: smallDoses\n",
      "the classifier came back with: largeDoses, the real answer is: largeDoses\n",
      "the classifier came back with: smallDoses, the real answer is: smallDoses\n",
      "the classifier came back with: largeDoses, the real answer is: largeDoses\n",
      "the classifier came back with: smallDoses, the real answer is: smallDoses\n",
      "the classifier came back with: didntLike, the real answer is: didntLike\n",
      "the classifier came back with: largeDoses, the real answer is: largeDoses\n",
      "the classifier came back with: didntLike, the real answer is: didntLike\n",
      "the classifier came back with: largeDoses, the real answer is: largeDoses\n",
      "the classifier came back with: didntLike, the real answer is: didntLike\n",
      "the classifier came back with: smallDoses, the real answer is: smallDoses\n",
      "the classifier came back with: didntLike, the real answer is: didntLike\n",
      "the classifier came back with: didntLike, the real answer is: didntLike\n",
      "the classifier came back with: smallDoses, the real answer is: smallDoses\n",
      "the classifier came back with: largeDoses, the real answer is: largeDoses\n",
      "the classifier came back with: largeDoses, the real answer is: largeDoses\n",
      "the classifier came back with: didntLike, the real answer is: didntLike\n",
      "the classifier came back with: smallDoses, the real answer is: smallDoses\n",
      "the classifier came back with: largeDoses, the real answer is: largeDoses\n",
      "the classifier came back with: largeDoses, the real answer is: largeDoses\n",
      "the classifier came back with: largeDoses, the real answer is: largeDoses\n",
      "the classifier came back with: didntLike, the real answer is: didntLike\n",
      "the classifier came back with: didntLike, the real answer is: didntLike\n",
      "the classifier came back with: didntLike, the real answer is: didntLike\n",
      "the classifier came back with: didntLike, the real answer is: didntLike\n",
      "the classifier came back with: smallDoses, the real answer is: smallDoses\n",
      "the total error rate is: 0.020000\n"
     ]
    }
   ],
   "source": [
    "datingClassTest()"
   ]
  },
  {
   "cell_type": "markdown",
   "metadata": {},
   "source": [
    "The total error rate for this classifier on this dataset with these settings is **2%**. Not\n",
    "bad"
   ]
  },
  {
   "cell_type": "markdown",
   "metadata": {},
   "source": [
    "## Setting a useful system for our friend\n",
    "Now that I have tested the classifier on the data, it's time to use it to actually classify people for her. I will provide her with a small program which she will find someone on the dating site and enter his information, then the program will predict how she'll like this person."
   ]
  },
  {
   "cell_type": "code",
   "execution_count": 44,
   "metadata": {
    "collapsed": true
   },
   "outputs": [],
   "source": [
    "def classifyPerson(percentTats = None, ffMiles = None, iceCream = None):\n",
    "    '''\n",
    "    Here we provide a command line interface for the user to interact with the classifier.\n",
    "    he is been prompted the various values, which are been used in the classification.\n",
    "    -------------------------\n",
    "    @Hint:\n",
    "        - in python 3.*, to get input from command line, we use 'input()' but in python 2.*,we use raw_input()\n",
    "        - the inputs from the user is used for testing, the ranges and minVals returned from \n",
    "        'autoNorm()' is used to normalise the testing dataSet.\n",
    "        - Since we can never trust data coming from users, we use excption handlers to handle unexpected inputs\n",
    "\n",
    "    NB//, the main unexpected value we check is 'ValueError', then we can check for all other exceptions after that.\n",
    "    bc in excption handling, we first check for more specific exception before the general ones.\n",
    "    NB//, I give the fxn parameters each time i call it and check if they are 'None' before i prompt the user for that value.\n",
    "    this ensures that if the user inputs the first value, and an exception occurs why entering the second value, he won't be \n",
    "    prompt for values which he has already entered, it will just start prompting him where he left off.\n",
    "    '''\n",
    "    resultDict = {'smallDoses':'in small doses', 'largeDoses':'in large doses','didntLike':'not at all'}\n",
    "    try:\n",
    "        if not percentTats: percentTats = float(input(\"percentage of time spent playing video games?\"))\n",
    "        if not ffMiles: ffMiles = float(input(\"frequent flier miles earned per year?\"))\n",
    "        if not iceCream: iceCream = float(input(\"liters of ice cream consumed per year?\"))\n",
    "\n",
    "        data = file2matrix('data/datingTestSet.txt') #get training data from dataset\n",
    "        norm = autoNorm(data.groupMat)                           # normalise the dataset,\n",
    "        inArr = array([ffMiles, percentTats, iceCream])          # build the testing set\n",
    "        normInArr = (inArr-norm.minVals)/norm.ranges             # here we have normalised the testing data set. with values from the training set\n",
    "        classifierResult = KNN(normInArr,norm.normMat,data.labelVec,3) \n",
    "        print (\"You will probably like this person: \",resultDict[classifierResult])\n",
    "    except ValueError as v:\n",
    "        print('the value entered is not an integer or float')\n",
    "        classifyPerson(percentTats,ffMiles, iceCream)\n",
    "    except Exception as e:\n",
    "        print('Sorry, an unexpected error occured',e)"
   ]
  },
  {
   "cell_type": "code",
   "execution_count": 45,
   "metadata": {},
   "outputs": [
    {
     "name": "stdout",
     "output_type": "stream",
     "text": [
      "percentage of time spent playing video games?8\n",
      "frequent flier miles earned per year?6\n",
      "liters of ice cream consumed per year?9\n",
      "You will probably like this person:  in small doses\n"
     ]
    }
   ],
   "source": [
    "# Run this cell and fill in the required information,then get the prediction.\n",
    "classifyPerson()"
   ]
  },
  {
   "cell_type": "code",
   "execution_count": null,
   "metadata": {
    "collapsed": true
   },
   "outputs": [],
   "source": []
  }
 ],
 "metadata": {
  "kernelspec": {
   "display_name": "Python 3",
   "language": "python",
   "name": "python3"
  },
  "language_info": {
   "codemirror_mode": {
    "name": "ipython",
    "version": 3
   },
   "file_extension": ".py",
   "mimetype": "text/x-python",
   "name": "python",
   "nbconvert_exporter": "python",
   "pygments_lexer": "ipython3",
   "version": "3.6.2"
  }
 },
 "nbformat": 4,
 "nbformat_minor": 2
}
